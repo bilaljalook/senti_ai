{
 "cells": [
  {
   "cell_type": "code",
   "execution_count": 10,
   "metadata": {},
   "outputs": [],
   "source": [
    "import pandas as pd\n",
    "from senti_ai.params import *"
   ]
  },
  {
   "cell_type": "code",
   "execution_count": 16,
   "metadata": {},
   "outputs": [],
   "source": [
    "from senti_ai.ml_logic.data import save_data_to_bq, load_data_from_bq"
   ]
  },
  {
   "cell_type": "code",
   "execution_count": 7,
   "metadata": {},
   "outputs": [
    {
     "name": "stdout",
     "output_type": "stream",
     "text": [
      "<class 'pandas.core.frame.DataFrame'>\n",
      "RangeIndex: 2567 entries, 0 to 2566\n",
      "Data columns (total 17 columns):\n",
      " #   Column                  Non-Null Count  Dtype         \n",
      "---  ------                  --------------  -----         \n",
      " 0   date                    2567 non-null   datetime64[ns]\n",
      " 1   BTC_Close               2567 non-null   float64       \n",
      " 2   BTC_High                2567 non-null   float64       \n",
      " 3   BTC_Low                 2567 non-null   float64       \n",
      " 4   BTC_Open                2567 non-null   float64       \n",
      " 5   BTC_Volume              2567 non-null   int64         \n",
      " 6   BTC_sentiment_score     2567 non-null   int64         \n",
      " 7   NASDAQ_Close            2567 non-null   float64       \n",
      " 8   NASDAQ_High             2567 non-null   float64       \n",
      " 9   NASDAQ_Low              2567 non-null   float64       \n",
      " 10  NASDAQ_Open             2567 non-null   float64       \n",
      " 11  NASDAQ_Volume           2567 non-null   int64         \n",
      " 12  NASDAQ_sentiment_score  2567 non-null   int64         \n",
      " 13  BTC_Close_MA30          2567 non-null   float64       \n",
      " 14  NASDAQ_Close_MA30       2567 non-null   float64       \n",
      " 15  BTC_Volatility          2567 non-null   float64       \n",
      " 16  NASDAQ_Volatility       2567 non-null   float64       \n",
      "dtypes: datetime64[ns](1), float64(12), int64(4)\n",
      "memory usage: 341.1 KB\n"
     ]
    }
   ],
   "source": [
    "df = pd.read_csv(\"/Users/ahmetcakan/Desktop/combined_df_final_final_promise.csv\")\n",
    "df['date'] = pd.to_datetime(df['date'])\n",
    "df.info()"
   ]
  },
  {
   "cell_type": "code",
   "execution_count": 19,
   "metadata": {},
   "outputs": [
    {
     "name": "stdout",
     "output_type": "stream",
     "text": [
      "\u001b[34m\n",
      "Save data to BigQuery @ supple-folder-448412-n9.sentiai.raw...:\u001b[0m\n",
      "\n",
      "Write supple-folder-448412-n9.sentiai.raw (2567 rows)\n"
     ]
    },
    {
     "name": "stderr",
     "output_type": "stream",
     "text": [
      "/Users/ahmetcakan/.pyenv/versions/3.10.6/envs/sentiai/lib/python3.10/site-packages/google/cloud/bigquery/_pandas_helpers.py:483: FutureWarning: Loading pandas DataFrame into BigQuery will require pandas-gbq package version 0.26.1 or greater in the future. Tried to import pandas-gbq and got: No module named 'pandas_gbq'\n",
      "  warnings.warn(\n"
     ]
    },
    {
     "name": "stdout",
     "output_type": "stream",
     "text": [
      "✅ Data saved to bigquery, with shape (2567, 17)\n"
     ]
    }
   ],
   "source": [
    "save_data_to_bq(df, \"supple-folder-448412-n9\",BQ_DATASET,\"raw\", truncate=True)"
   ]
  },
  {
   "cell_type": "code",
   "execution_count": 24,
   "metadata": {},
   "outputs": [
    {
     "name": "stdout",
     "output_type": "stream",
     "text": [
      "17\n"
     ]
    }
   ],
   "source": [
    "print(df_new.shape[1])"
   ]
  },
  {
   "cell_type": "code",
   "execution_count": 47,
   "metadata": {},
   "outputs": [
    {
     "name": "stdout",
     "output_type": "stream",
     "text": [
      "<class 'pandas.core.frame.DataFrame'>\n",
      "RangeIndex: 2567 entries, 0 to 2566\n",
      "Data columns (total 17 columns):\n",
      " #   Column                  Non-Null Count  Dtype         \n",
      "---  ------                  --------------  -----         \n",
      " 0   date                    2567 non-null   datetime64[ns]\n",
      " 1   BTC_Close               2567 non-null   float64       \n",
      " 2   BTC_High                2567 non-null   float64       \n",
      " 3   BTC_Low                 2567 non-null   float64       \n",
      " 4   BTC_Open                2567 non-null   float64       \n",
      " 5   BTC_Volume              2567 non-null   Int64         \n",
      " 6   BTC_sentiment_score     2567 non-null   Int64         \n",
      " 7   NASDAQ_Close            2567 non-null   float64       \n",
      " 8   NASDAQ_High             2567 non-null   float64       \n",
      " 9   NASDAQ_Low              2567 non-null   float64       \n",
      " 10  NASDAQ_Open             2567 non-null   float64       \n",
      " 11  NASDAQ_Volume           2567 non-null   Int64         \n",
      " 12  NASDAQ_sentiment_score  2567 non-null   Int64         \n",
      " 13  BTC_Close_MA30          2567 non-null   float64       \n",
      " 14  NASDAQ_Close_MA30       2567 non-null   float64       \n",
      " 15  BTC_Volatility          2567 non-null   float64       \n",
      " 16  NASDAQ_Volatility       2567 non-null   float64       \n",
      "dtypes: Int64(4), datetime64[ns](1), float64(12)\n",
      "memory usage: 351.1 KB\n"
     ]
    }
   ],
   "source": [
    "df_new.info()\n"
   ]
  },
  {
   "cell_type": "code",
   "execution_count": null,
   "metadata": {},
   "outputs": [],
   "source": [
    "df_new.sort_values('date', ascending=False)"
   ]
  },
  {
   "cell_type": "code",
   "execution_count": 42,
   "metadata": {},
   "outputs": [
    {
     "name": "stderr",
     "output_type": "stream",
     "text": [
      "/Users/ahmetcakan/.pyenv/versions/3.10.6/envs/sentiai/lib/python3.10/site-packages/google/cloud/bigquery/table.py:1900: UserWarning: BigQuery Storage module not found, fetch data with the REST endpoint instead.\n",
      "  warnings.warn(\n"
     ]
    },
    {
     "name": "stdout",
     "output_type": "stream",
     "text": [
      "<class 'pandas.core.frame.DataFrame'>\n",
      "RangeIndex: 2567 entries, 0 to 2566\n",
      "Data columns (total 17 columns):\n",
      " #   Column                  Non-Null Count  Dtype         \n",
      "---  ------                  --------------  -----         \n",
      " 0   date                    2567 non-null   datetime64[ns]\n",
      " 1   BTC_Close               2567 non-null   float64       \n",
      " 2   BTC_High                2567 non-null   float64       \n",
      " 3   BTC_Low                 2567 non-null   float64       \n",
      " 4   BTC_Open                2567 non-null   float64       \n",
      " 5   BTC_Volume              2567 non-null   Int64         \n",
      " 6   BTC_sentiment_score     2567 non-null   Int64         \n",
      " 7   NASDAQ_Close            2567 non-null   float64       \n",
      " 8   NASDAQ_High             2567 non-null   float64       \n",
      " 9   NASDAQ_Low              2567 non-null   float64       \n",
      " 10  NASDAQ_Open             2567 non-null   float64       \n",
      " 11  NASDAQ_Volume           2567 non-null   Int64         \n",
      " 12  NASDAQ_sentiment_score  2567 non-null   Int64         \n",
      " 13  BTC_Close_MA30          2567 non-null   float64       \n",
      " 14  NASDAQ_Close_MA30       2567 non-null   float64       \n",
      " 15  BTC_Volatility          2567 non-null   float64       \n",
      " 16  NASDAQ_Volatility       2567 non-null   float64       \n",
      "dtypes: Int64(4), datetime64[ns](1), float64(12)\n",
      "memory usage: 351.1 KB\n"
     ]
    }
   ],
   "source": [
    "df_new = load_data_from_bq(\"supple-folder-448412-n9\",BQ_DATASET, \"raw\")\n",
    "df_new.info()"
   ]
  },
  {
   "cell_type": "code",
   "execution_count": 25,
   "metadata": {},
   "outputs": [],
   "source": [
    "from senti_ai.interface.notification import send_pushover_notification"
   ]
  },
  {
   "cell_type": "code",
   "execution_count": 26,
   "metadata": {},
   "outputs": [],
   "source": [
    "pushover_user_keys = [AHMET_USER_KEY, KSENIA_USER_KEY, BILL_USER_KEY, PHILIP_USER_KEY]\n",
    "for key in pushover_user_keys:\n",
    "    send_pushover_notification('Notification test', user_key=key)"
   ]
  },
  {
   "cell_type": "code",
   "execution_count": 33,
   "metadata": {},
   "outputs": [],
   "source": [
    "import yfinance as yf\n",
    "from datetime import datetime"
   ]
  },
  {
   "cell_type": "code",
   "execution_count": 34,
   "metadata": {},
   "outputs": [
    {
     "name": "stdout",
     "output_type": "stream",
     "text": [
      "YF.download() has changed argument auto_adjust default to True\n"
     ]
    },
    {
     "name": "stderr",
     "output_type": "stream",
     "text": [
      "[*********************100%***********************]  1 of 1 completed\n"
     ]
    }
   ],
   "source": [
    "df_nasdaq = yf.download(\n",
    "\"^IXIC\",\n",
    "start=datetime.today().date(),\n",
    "interval=\"1d\"\n",
    ")"
   ]
  },
  {
   "cell_type": "code",
   "execution_count": 36,
   "metadata": {},
   "outputs": [
    {
     "data": {
      "text/plain": [
       "Date\n",
       "2025-03-12    6847676000\n",
       "Name: ^IXIC, dtype: int64"
      ]
     },
     "execution_count": 36,
     "metadata": {},
     "output_type": "execute_result"
    }
   ],
   "source": [
    "df_nasdaq['Volume']['^IXIC']"
   ]
  },
  {
   "cell_type": "code",
   "execution_count": null,
   "metadata": {},
   "outputs": [
    {
     "name": "stderr",
     "output_type": "stream",
     "text": [
      "[*********************100%***********************]  1 of 1 completed\n"
     ]
    }
   ],
   "source": [
    "b = yf.download(\n",
    "    \"BTC-USD\",\n",
    "    start=datetime.today().date(),\n",
    "    interval=\"1d\"\n",
    "    )"
   ]
  },
  {
   "cell_type": "code",
   "execution_count": 40,
   "metadata": {},
   "outputs": [
    {
     "data": {
      "text/plain": [
       "Date\n",
       "2025-03-13    36177297408\n",
       "Name: BTC-USD, dtype: int64"
      ]
     },
     "execution_count": 40,
     "metadata": {},
     "output_type": "execute_result"
    }
   ],
   "source": [
    "df_btc['Volume']['BTC-USD']\n"
   ]
  }
 ],
 "metadata": {
  "kernelspec": {
   "display_name": "sentiai",
   "language": "python",
   "name": "python3"
  },
  "language_info": {
   "codemirror_mode": {
    "name": "ipython",
    "version": 3
   },
   "file_extension": ".py",
   "mimetype": "text/x-python",
   "name": "python",
   "nbconvert_exporter": "python",
   "pygments_lexer": "ipython3",
   "version": "3.10.6"
  }
 },
 "nbformat": 4,
 "nbformat_minor": 2
}
