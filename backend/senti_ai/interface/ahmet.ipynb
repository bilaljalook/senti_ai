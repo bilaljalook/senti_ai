{
 "cells": [
  {
   "cell_type": "code",
   "execution_count": 1,
   "metadata": {},
   "outputs": [
    {
     "name": "stdout",
     "output_type": "stream",
     "text": [
      "\u001b[34m\n",
      "Loading TensorFlow...\u001b[0m\n",
      "\n",
      "✅ TensorFlow loaded (1.99s)\n"
     ]
    }
   ],
   "source": [
    "from dateutil.parser import parse\n",
    "from colorama import Fore, Style\n",
    "from senti_ai.params import *\n",
    "from senti_ai.ml_logic.data import load_data_from_bq\n",
    "from senti_ai.ml_logic.registry import load_model, save_model, save_results\n",
    "from senti_ai.ml_logic.model import initialize_model, train_model, compile_model, evaluate_model"
   ]
  },
  {
   "cell_type": "code",
   "execution_count": 2,
   "metadata": {},
   "outputs": [
    {
     "name": "stderr",
     "output_type": "stream",
     "text": [
      "/Users/ahmetcakan/.pyenv/versions/3.10.6/envs/sentiai/lib/python3.10/site-packages/google/cloud/bigquery/table.py:1900: UserWarning: BigQuery Storage module not found, fetch data with the REST endpoint instead.\n",
      "  warnings.warn(\n"
     ]
    }
   ],
   "source": [
    "df = load_data_from_bq(GCP_PROJECT,BQ_DATASET,\"raw\")\n",
    "df = df.sort_values(\"date\", ascending=False)"
   ]
  },
  {
   "cell_type": "code",
   "execution_count": 13,
   "metadata": {},
   "outputs": [
    {
     "name": "stderr",
     "output_type": "stream",
     "text": [
      "/Users/ahmetcakan/.pyenv/versions/3.10.6/envs/sentiai/lib/python3.10/site-packages/google/cloud/bigquery/table.py:1900: UserWarning: BigQuery Storage module not found, fetch data with the REST endpoint instead.\n",
      "  warnings.warn(\n"
     ]
    }
   ],
   "source": [
    "df = load_data_from_bq(GCP_PROJECT,BQ_DATASET,\"raw\")\n",
    "df = df.sort_values(\"date\", ascending=False)\n",
    "\n",
    "X_train = df.drop(columns=[\"BTC_Close\"])\n",
    "y_train = df['BTC_Close']"
   ]
  },
  {
   "cell_type": "code",
   "execution_count": 15,
   "metadata": {},
   "outputs": [
    {
     "data": {
      "text/plain": [
       "(12,)"
      ]
     },
     "execution_count": 15,
     "metadata": {},
     "output_type": "execute_result"
    }
   ],
   "source": [
    "X_train.shape[1:]"
   ]
  }
 ],
 "metadata": {
  "kernelspec": {
   "display_name": "sentiai",
   "language": "python",
   "name": "python3"
  },
  "language_info": {
   "codemirror_mode": {
    "name": "ipython",
    "version": 3
   },
   "file_extension": ".py",
   "mimetype": "text/x-python",
   "name": "python",
   "nbconvert_exporter": "python",
   "pygments_lexer": "ipython3",
   "version": "3.10.6"
  }
 },
 "nbformat": 4,
 "nbformat_minor": 2
}
